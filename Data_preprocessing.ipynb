{
 "cells": [
  {
   "cell_type": "code",
   "execution_count": 1,
   "id": "initial_id",
   "metadata": {
    "ExecuteTime": {
     "end_time": "2024-01-22T22:03:59.685242Z",
     "start_time": "2024-01-22T22:03:59.456170Z"
    }
   },
   "outputs": [],
   "source": [
    "# Библиотеки использованные для обработки данных\n",
    "import numpy as np\n",
    "import pandas as pd\n",
    "import matplotlib.pyplot as plt\n",
    "import seaborn as sns\n",
    "from tqdm import tqdm\n",
    "from sklearn.preprocessing import LabelEncoder, MinMaxScaler\n",
    "import pickle"
   ]
  },
  {
   "cell_type": "code",
   "execution_count": 2,
   "id": "305e4dd60ab6423",
   "metadata": {
    "ExecuteTime": {
     "end_time": "2024-01-22T22:03:59.710950Z",
     "start_time": "2024-01-22T22:03:59.687459Z"
    },
    "collapsed": false,
    "jupyter": {
     "outputs_hidden": false
    }
   },
   "outputs": [],
   "source": [
    "# Датафрейм читается из csv файла - stroke_data.csv - взятого с kaggle\n",
    "df = pd.read_csv('data/stroke_data.csv', index_col=0)"
   ]
  },
  {
   "cell_type": "code",
   "execution_count": 3,
   "id": "d0380863944ac5cd",
   "metadata": {
    "ExecuteTime": {
     "end_time": "2024-01-22T22:03:59.735148Z",
     "start_time": "2024-01-22T22:03:59.714637Z"
    },
    "collapsed": false,
    "jupyter": {
     "outputs_hidden": false
    }
   },
   "outputs": [
    {
     "data": {
      "text/html": [
       "<div>\n",
       "<style scoped>\n",
       "    .dataframe tbody tr th:only-of-type {\n",
       "        vertical-align: middle;\n",
       "    }\n",
       "\n",
       "    .dataframe tbody tr th {\n",
       "        vertical-align: top;\n",
       "    }\n",
       "\n",
       "    .dataframe thead th {\n",
       "        text-align: right;\n",
       "    }\n",
       "</style>\n",
       "<table border=\"1\" class=\"dataframe\">\n",
       "  <thead>\n",
       "    <tr style=\"text-align: right;\">\n",
       "      <th></th>\n",
       "      <th>gender</th>\n",
       "      <th>age</th>\n",
       "      <th>hypertension</th>\n",
       "      <th>heart_disease</th>\n",
       "      <th>ever_married</th>\n",
       "      <th>work_type</th>\n",
       "      <th>Residence_type</th>\n",
       "      <th>avg_glucose_level</th>\n",
       "      <th>bmi</th>\n",
       "      <th>smoking_status</th>\n",
       "      <th>stroke</th>\n",
       "    </tr>\n",
       "    <tr>\n",
       "      <th>id</th>\n",
       "      <th></th>\n",
       "      <th></th>\n",
       "      <th></th>\n",
       "      <th></th>\n",
       "      <th></th>\n",
       "      <th></th>\n",
       "      <th></th>\n",
       "      <th></th>\n",
       "      <th></th>\n",
       "      <th></th>\n",
       "      <th></th>\n",
       "    </tr>\n",
       "  </thead>\n",
       "  <tbody>\n",
       "    <tr>\n",
       "      <th>9046</th>\n",
       "      <td>Male</td>\n",
       "      <td>67.0</td>\n",
       "      <td>0</td>\n",
       "      <td>1</td>\n",
       "      <td>Yes</td>\n",
       "      <td>Private</td>\n",
       "      <td>Urban</td>\n",
       "      <td>228.69</td>\n",
       "      <td>36.6</td>\n",
       "      <td>formerly smoked</td>\n",
       "      <td>1</td>\n",
       "    </tr>\n",
       "    <tr>\n",
       "      <th>51676</th>\n",
       "      <td>Female</td>\n",
       "      <td>61.0</td>\n",
       "      <td>0</td>\n",
       "      <td>0</td>\n",
       "      <td>Yes</td>\n",
       "      <td>Self-employed</td>\n",
       "      <td>Rural</td>\n",
       "      <td>202.21</td>\n",
       "      <td>NaN</td>\n",
       "      <td>never smoked</td>\n",
       "      <td>1</td>\n",
       "    </tr>\n",
       "    <tr>\n",
       "      <th>31112</th>\n",
       "      <td>Male</td>\n",
       "      <td>80.0</td>\n",
       "      <td>0</td>\n",
       "      <td>1</td>\n",
       "      <td>Yes</td>\n",
       "      <td>Private</td>\n",
       "      <td>Rural</td>\n",
       "      <td>105.92</td>\n",
       "      <td>32.5</td>\n",
       "      <td>never smoked</td>\n",
       "      <td>1</td>\n",
       "    </tr>\n",
       "    <tr>\n",
       "      <th>60182</th>\n",
       "      <td>Female</td>\n",
       "      <td>49.0</td>\n",
       "      <td>0</td>\n",
       "      <td>0</td>\n",
       "      <td>Yes</td>\n",
       "      <td>Private</td>\n",
       "      <td>Urban</td>\n",
       "      <td>171.23</td>\n",
       "      <td>34.4</td>\n",
       "      <td>smokes</td>\n",
       "      <td>1</td>\n",
       "    </tr>\n",
       "    <tr>\n",
       "      <th>1665</th>\n",
       "      <td>Female</td>\n",
       "      <td>79.0</td>\n",
       "      <td>1</td>\n",
       "      <td>0</td>\n",
       "      <td>Yes</td>\n",
       "      <td>Self-employed</td>\n",
       "      <td>Rural</td>\n",
       "      <td>174.12</td>\n",
       "      <td>24.0</td>\n",
       "      <td>never smoked</td>\n",
       "      <td>1</td>\n",
       "    </tr>\n",
       "  </tbody>\n",
       "</table>\n",
       "</div>"
      ],
      "text/plain": [
       "       gender   age  hypertension  heart_disease ever_married      work_type  \\\n",
       "id                                                                             \n",
       "9046     Male  67.0             0              1          Yes        Private   \n",
       "51676  Female  61.0             0              0          Yes  Self-employed   \n",
       "31112    Male  80.0             0              1          Yes        Private   \n",
       "60182  Female  49.0             0              0          Yes        Private   \n",
       "1665   Female  79.0             1              0          Yes  Self-employed   \n",
       "\n",
       "      Residence_type  avg_glucose_level   bmi   smoking_status  stroke  \n",
       "id                                                                      \n",
       "9046           Urban             228.69  36.6  formerly smoked       1  \n",
       "51676          Rural             202.21   NaN     never smoked       1  \n",
       "31112          Rural             105.92  32.5     never smoked       1  \n",
       "60182          Urban             171.23  34.4           smokes       1  \n",
       "1665           Rural             174.12  24.0     never smoked       1  "
      ]
     },
     "execution_count": 3,
     "metadata": {},
     "output_type": "execute_result"
    }
   ],
   "source": [
    "# Первые 5 строк датафрейма\n",
    "df.head()"
   ]
  },
  {
   "cell_type": "markdown",
   "id": "d4e799d87abf07a9",
   "metadata": {
    "collapsed": false,
    "jupyter": {
     "outputs_hidden": false
    }
   },
   "source": [
    "## Поиск NULL значений в каждом из столбцов"
   ]
  },
  {
   "cell_type": "code",
   "execution_count": 4,
   "id": "644c6f858216c6fc",
   "metadata": {
    "ExecuteTime": {
     "end_time": "2024-01-22T22:03:59.744666Z",
     "start_time": "2024-01-22T22:03:59.731294Z"
    },
    "collapsed": false,
    "jupyter": {
     "outputs_hidden": false
    }
   },
   "outputs": [
    {
     "name": "stdout",
     "output_type": "stream",
     "text": [
      "gender                 0\n",
      "age                    0\n",
      "hypertension           0\n",
      "heart_disease          0\n",
      "ever_married           0\n",
      "work_type              0\n",
      "Residence_type         0\n",
      "avg_glucose_level      0\n",
      "bmi                  201\n",
      "smoking_status         0\n",
      "stroke                 0\n",
      "dtype: int64\n"
     ]
    }
   ],
   "source": [
    "# Вывод NULL значений в каждом из столбцов\n",
    "print(df.isna().sum())"
   ]
  },
  {
   "cell_type": "markdown",
   "id": "692cf0c630b15644",
   "metadata": {
    "collapsed": false,
    "jupyter": {
     "outputs_hidden": false
    }
   },
   "source": [
    "- Подсчет кол-ва NULL, вышло порядка 201 значения на весь датасет и все в столбце bmi."
   ]
  },
  {
   "cell_type": "code",
   "execution_count": 5,
   "id": "c83c04af27c65b7f",
   "metadata": {
    "ExecuteTime": {
     "end_time": "2024-01-22T22:03:59.792171Z",
     "start_time": "2024-01-22T22:03:59.746877Z"
    },
    "collapsed": false,
    "jupyter": {
     "outputs_hidden": false
    }
   },
   "outputs": [
    {
     "data": {
      "text/html": [
       "<div>\n",
       "<style scoped>\n",
       "    .dataframe tbody tr th:only-of-type {\n",
       "        vertical-align: middle;\n",
       "    }\n",
       "\n",
       "    .dataframe tbody tr th {\n",
       "        vertical-align: top;\n",
       "    }\n",
       "\n",
       "    .dataframe thead th {\n",
       "        text-align: right;\n",
       "    }\n",
       "</style>\n",
       "<table border=\"1\" class=\"dataframe\">\n",
       "  <thead>\n",
       "    <tr style=\"text-align: right;\">\n",
       "      <th></th>\n",
       "      <th>age</th>\n",
       "      <th>hypertension</th>\n",
       "      <th>heart_disease</th>\n",
       "      <th>avg_glucose_level</th>\n",
       "      <th>bmi</th>\n",
       "      <th>stroke</th>\n",
       "    </tr>\n",
       "  </thead>\n",
       "  <tbody>\n",
       "    <tr>\n",
       "      <th>count</th>\n",
       "      <td>5110.000000</td>\n",
       "      <td>5110.000000</td>\n",
       "      <td>5110.000000</td>\n",
       "      <td>5110.000000</td>\n",
       "      <td>4909.000000</td>\n",
       "      <td>5110.000000</td>\n",
       "    </tr>\n",
       "    <tr>\n",
       "      <th>mean</th>\n",
       "      <td>43.226614</td>\n",
       "      <td>0.097456</td>\n",
       "      <td>0.054012</td>\n",
       "      <td>106.147677</td>\n",
       "      <td>28.893237</td>\n",
       "      <td>0.048728</td>\n",
       "    </tr>\n",
       "    <tr>\n",
       "      <th>std</th>\n",
       "      <td>22.612647</td>\n",
       "      <td>0.296607</td>\n",
       "      <td>0.226063</td>\n",
       "      <td>45.283560</td>\n",
       "      <td>7.854067</td>\n",
       "      <td>0.215320</td>\n",
       "    </tr>\n",
       "    <tr>\n",
       "      <th>min</th>\n",
       "      <td>0.080000</td>\n",
       "      <td>0.000000</td>\n",
       "      <td>0.000000</td>\n",
       "      <td>55.120000</td>\n",
       "      <td>10.300000</td>\n",
       "      <td>0.000000</td>\n",
       "    </tr>\n",
       "    <tr>\n",
       "      <th>25%</th>\n",
       "      <td>25.000000</td>\n",
       "      <td>0.000000</td>\n",
       "      <td>0.000000</td>\n",
       "      <td>77.245000</td>\n",
       "      <td>23.500000</td>\n",
       "      <td>0.000000</td>\n",
       "    </tr>\n",
       "    <tr>\n",
       "      <th>50%</th>\n",
       "      <td>45.000000</td>\n",
       "      <td>0.000000</td>\n",
       "      <td>0.000000</td>\n",
       "      <td>91.885000</td>\n",
       "      <td>28.100000</td>\n",
       "      <td>0.000000</td>\n",
       "    </tr>\n",
       "    <tr>\n",
       "      <th>75%</th>\n",
       "      <td>61.000000</td>\n",
       "      <td>0.000000</td>\n",
       "      <td>0.000000</td>\n",
       "      <td>114.090000</td>\n",
       "      <td>33.100000</td>\n",
       "      <td>0.000000</td>\n",
       "    </tr>\n",
       "    <tr>\n",
       "      <th>max</th>\n",
       "      <td>82.000000</td>\n",
       "      <td>1.000000</td>\n",
       "      <td>1.000000</td>\n",
       "      <td>271.740000</td>\n",
       "      <td>97.600000</td>\n",
       "      <td>1.000000</td>\n",
       "    </tr>\n",
       "  </tbody>\n",
       "</table>\n",
       "</div>"
      ],
      "text/plain": [
       "               age  hypertension  heart_disease  avg_glucose_level  \\\n",
       "count  5110.000000   5110.000000    5110.000000        5110.000000   \n",
       "mean     43.226614      0.097456       0.054012         106.147677   \n",
       "std      22.612647      0.296607       0.226063          45.283560   \n",
       "min       0.080000      0.000000       0.000000          55.120000   \n",
       "25%      25.000000      0.000000       0.000000          77.245000   \n",
       "50%      45.000000      0.000000       0.000000          91.885000   \n",
       "75%      61.000000      0.000000       0.000000         114.090000   \n",
       "max      82.000000      1.000000       1.000000         271.740000   \n",
       "\n",
       "               bmi       stroke  \n",
       "count  4909.000000  5110.000000  \n",
       "mean     28.893237     0.048728  \n",
       "std       7.854067     0.215320  \n",
       "min      10.300000     0.000000  \n",
       "25%      23.500000     0.000000  \n",
       "50%      28.100000     0.000000  \n",
       "75%      33.100000     0.000000  \n",
       "max      97.600000     1.000000  "
      ]
     },
     "execution_count": 5,
     "metadata": {},
     "output_type": "execute_result"
    }
   ],
   "source": [
    "# Для проверки статистического анализа всех атрибутов числового типа(кол-во, среднее, стандартное отклоненние, минимальное значение, все квартили, максимальное значение)\n",
    "df.describe()"
   ]
  },
  {
   "cell_type": "code",
   "execution_count": 6,
   "id": "ed6124617a3bb5ae",
   "metadata": {
    "ExecuteTime": {
     "end_time": "2024-01-22T22:03:59.826338Z",
     "start_time": "2024-01-22T22:03:59.782947Z"
    },
    "collapsed": false,
    "jupyter": {
     "outputs_hidden": false
    }
   },
   "outputs": [
    {
     "name": "stdout",
     "output_type": "stream",
     "text": [
      "<class 'pandas.core.frame.DataFrame'>\n",
      "Int64Index: 5110 entries, 9046 to 44679\n",
      "Data columns (total 11 columns):\n",
      " #   Column             Non-Null Count  Dtype  \n",
      "---  ------             --------------  -----  \n",
      " 0   gender             5110 non-null   object \n",
      " 1   age                5110 non-null   float64\n",
      " 2   hypertension       5110 non-null   int64  \n",
      " 3   heart_disease      5110 non-null   int64  \n",
      " 4   ever_married       5110 non-null   object \n",
      " 5   work_type          5110 non-null   object \n",
      " 6   Residence_type     5110 non-null   object \n",
      " 7   avg_glucose_level  5110 non-null   float64\n",
      " 8   bmi                4909 non-null   float64\n",
      " 9   smoking_status     5110 non-null   object \n",
      " 10  stroke             5110 non-null   int64  \n",
      "dtypes: float64(3), int64(3), object(5)\n",
      "memory usage: 479.1+ KB\n"
     ]
    }
   ],
   "source": [
    "# Предоставление типов данных всех столбцов и количество значений NOT NULL\n",
    "df.info()"
   ]
  },
  {
   "cell_type": "code",
   "execution_count": 7,
   "id": "2e5baf24fbbc905e",
   "metadata": {
    "ExecuteTime": {
     "end_time": "2024-01-22T22:03:59.906669Z",
     "start_time": "2024-01-22T22:03:59.828199Z"
    },
    "collapsed": false,
    "jupyter": {
     "outputs_hidden": false
    }
   },
   "outputs": [
    {
     "data": {
      "text/plain": [
       "0"
      ]
     },
     "execution_count": 7,
     "metadata": {},
     "output_type": "execute_result"
    }
   ],
   "source": [
    "# Дубликатов не было обнаружено\n",
    "df.duplicated().sum()"
   ]
  },
  {
   "cell_type": "markdown",
   "id": "4493c82e1b253e2b",
   "metadata": {
    "collapsed": false,
    "jupyter": {
     "outputs_hidden": false
    }
   },
   "source": [
    "# EDA/Разведовочный анализ"
   ]
  },
  {
   "cell_type": "markdown",
   "id": "13f191c76c3c690a",
   "metadata": {
    "collapsed": false,
    "jupyter": {
     "outputs_hidden": false
    }
   },
   "source": [
    "## Анализ атрибута gender(пол)"
   ]
  },
  {
   "cell_type": "code",
   "execution_count": 8,
   "id": "64ed7ae0d7bdec4a",
   "metadata": {
    "ExecuteTime": {
     "end_time": "2024-01-22T22:03:59.967839Z",
     "start_time": "2024-01-22T22:03:59.874220Z"
    },
    "collapsed": false,
    "jupyter": {
     "outputs_hidden": false
    }
   },
   "outputs": [
    {
     "data": {
      "text/plain": [
       "Female    2994\n",
       "Male      2115\n",
       "Other        1\n",
       "Name: gender, dtype: int64"
      ]
     },
     "execution_count": 8,
     "metadata": {},
     "output_type": "execute_result"
    }
   ],
   "source": [
    "# Просмотр значений столбца gender\n",
    "df['gender'].value_counts()"
   ]
  },
  {
   "cell_type": "markdown",
   "id": "2cf55f0979e1e082",
   "metadata": {
    "collapsed": false,
    "jupyter": {
     "outputs_hidden": false
    }
   },
   "source": [
    "- Мы имеем значение 'other' в gender и поскольку есть только 1 случай мы его заменим на 'female'"
   ]
  },
  {
   "cell_type": "code",
   "execution_count": 9,
   "id": "5bd3fabf9ced7236",
   "metadata": {
    "ExecuteTime": {
     "end_time": "2024-01-22T22:04:00.004262Z",
     "start_time": "2024-01-22T22:03:59.972371Z"
    },
    "collapsed": false,
    "jupyter": {
     "outputs_hidden": false
    }
   },
   "outputs": [
    {
     "data": {
      "text/plain": [
       "<Axes: ylabel='gender'>"
      ]
     },
     "execution_count": 9,
     "metadata": {},
     "output_type": "execute_result"
    },
    {
     "data": {
      "image/png": "[encoded data removed]",
      "text/plain": [
       "<Figure size 640x480 with 1 Axes>"
      ]
     },
     "metadata": {},
     "output_type": "display_data"
    }
   ],
   "source": [
    "# Замена 'other' в gender на 'Female' \n",
    "df['gender'] = df['gender'].replace('Other', 'Female')\n",
    "# Построение круговой диаграммы, чтобы увидеть распределение пола \n",
    "df['gender'].value_counts().plot(kind='pie')"
   ]
  },
  {
   "cell_type": "markdown",
   "id": "e710de336daeb47b",
   "metadata": {
    "collapsed": false,
    "jupyter": {
     "outputs_hidden": false
    }
   },
   "source": [
    "- Заметное преобладание женщин, нежели мужчин"
   ]
  },
  {
   "cell_type": "markdown",
   "id": "5d5a1beb4eaf4b4f",
   "metadata": {
    "collapsed": false,
    "jupyter": {
     "outputs_hidden": false
    }
   },
   "source": [
    "## Анализирование атрибута stroke(инсульт)"
   ]
  },
  {
   "cell_type": "code",
   "execution_count": 10,
   "id": "be07e7ef0f0e5f79",
   "metadata": {
    "ExecuteTime": {
     "end_time": "2024-01-22T22:04:00.018121Z",
     "start_time": "2024-01-22T22:03:59.983124Z"
    },
    "collapsed": false,
    "jupyter": {
     "outputs_hidden": false
    }
   },
   "outputs": [
    {
     "data": {
      "text/plain": [
       "0    4861\n",
       "1     249\n",
       "Name: stroke, dtype: int64"
      ]
     },
     "execution_count": 10,
     "metadata": {},
     "output_type": "execute_result"
    }
   ],
   "source": [
    "# Подсчет количества значений в атрибуте stroke\n",
    "df['stroke'].value_counts()"
   ]
  },
  {
   "cell_type": "code",
   "execution_count": 11,
   "id": "cac05d962e73062c",
   "metadata": {
    "ExecuteTime": {
     "end_time": "2024-01-22T22:04:00.058366Z",
     "start_time": "2024-01-22T22:04:00.008995Z"
    },
    "collapsed": false,
    "jupyter": {
     "outputs_hidden": false
    }
   },
   "outputs": [
    {
     "data": {
      "text/plain": [
       "<Axes: >"
      ]
     },
     "execution_count": 11,
     "metadata": {},
     "output_type": "execute_result"
    },
    {
     "data": {
      "image/png": "[encoded data removed]",
      "text/plain": [
       "<Figure size 640x480 with 1 Axes>"
      ]
     },
     "metadata": {},
     "output_type": "display_data"
    }
   ],
   "source": [
    "# Графическое представление распределения количества значений атрибута stroke\n",
    "df['stroke'].value_counts().plot(kind='bar')"
   ]
  },
  {
   "cell_type": "markdown",
   "id": "6c693fa8c090417b",
   "metadata": {
    "collapsed": false,
    "jupyter": {
     "outputs_hidden": false
    }
   },
   "source": [
    "- Порядка 5% людей с которыми случился инсульт"
   ]
  },
  {
   "cell_type": "markdown",
   "id": "cfaa68720f578ba7",
   "metadata": {
    "collapsed": false,
    "jupyter": {
     "outputs_hidden": false
    }
   },
   "source": [
    "## Анализирование атрибута hypertension(гипертония)"
   ]
  },
  {
   "cell_type": "code",
   "execution_count": 12,
   "id": "cfeb2986d260703e",
   "metadata": {
    "ExecuteTime": {
     "end_time": "2024-01-22T22:04:00.073746Z",
     "start_time": "2024-01-22T22:04:00.048055Z"
    },
    "collapsed": false,
    "jupyter": {
     "outputs_hidden": false
    }
   },
   "outputs": [
    {
     "data": {
      "text/plain": [
       "0    4612\n",
       "1     498\n",
       "Name: hypertension, dtype: int64"
      ]
     },
     "execution_count": 12,
     "metadata": {},
     "output_type": "execute_result"
    }
   ],
   "source": [
    "# Подсчет количества значений в атрибуте hypertension\n",
    "df['hypertension'].value_counts()"
   ]
  },
  {
   "cell_type": "code",
   "execution_count": 13,
   "id": "f6fc6115dfc7f79c",
   "metadata": {
    "ExecuteTime": {
     "end_time": "2024-01-22T22:04:00.123327Z",
     "start_time": "2024-01-22T22:04:00.082556Z"
    },
    "collapsed": false,
    "jupyter": {
     "outputs_hidden": false
    }
   },
   "outputs": [
    {
     "data": {
      "text/plain": [
       "<Axes: >"
      ]
     },
     "execution_count": 13,
     "metadata": {},
     "output_type": "execute_result"
    },
    {
     "data": {
      "image/png": "[encoded data removed]",
      "text/plain": [
       "<Figure size 640x480 with 1 Axes>"
      ]
     },
     "metadata": {},
     "output_type": "display_data"
    }
   ],
   "source": [
    "# Графическое представление распределения количества значений атрибута hypertension\n",
    "df['hypertension'].value_counts().plot(kind='bar', color = 'pink')"
   ]
  },
  {
   "cell_type": "markdown",
   "id": "aeecc1855fa12893",
   "metadata": {
    "collapsed": false,
    "jupyter": {
     "outputs_hidden": false
    }
   },
   "source": [
    "- Порядка 10% людей с гипертонией"
   ]
  },
  {
   "cell_type": "markdown",
   "id": "889318e026fc0f3a",
   "metadata": {
    "collapsed": false,
    "jupyter": {
     "outputs_hidden": false
    }
   },
   "source": [
    "## Анализирование атрибута Work type(тип работы)"
   ]
  },
  {
   "cell_type": "code",
   "execution_count": 14,
   "id": "6e5450061859f8cd",
   "metadata": {
    "ExecuteTime": {
     "end_time": "2024-01-22T22:04:00.136355Z",
     "start_time": "2024-01-22T22:04:00.113466Z"
    },
    "collapsed": false,
    "jupyter": {
     "outputs_hidden": false
    }
   },
   "outputs": [
    {
     "data": {
      "text/plain": [
       "Private          2925\n",
       "Self-employed     819\n",
       "children          687\n",
       "Govt_job          657\n",
       "Never_worked       22\n",
       "Name: work_type, dtype: int64"
      ]
     },
     "execution_count": 14,
     "metadata": {},
     "output_type": "execute_result"
    }
   ],
   "source": [
    "# Подсчет количества значений в атрибуте work_type\n",
    "df['work_type'].value_counts()"
   ]
  },
  {
   "cell_type": "code",
   "execution_count": 15,
   "id": "682d9bb021d49ec0",
   "metadata": {
    "ExecuteTime": {
     "end_time": "2024-01-22T22:04:00.178088Z",
     "start_time": "2024-01-22T22:04:00.138293Z"
    },
    "collapsed": false,
    "jupyter": {
     "outputs_hidden": false
    }
   },
   "outputs": [
    {
     "data": {
      "text/plain": [
       "<Axes: ylabel='work_type'>"
      ]
     },
     "execution_count": 15,
     "metadata": {},
     "output_type": "execute_result"
    },
    {
     "data": {
      "image/png": "[encoded data removed]",
      "text/plain": [
       "<Figure size 640x480 with 1 Axes>"
      ]
     },
     "metadata": {},
     "output_type": "display_data"
    }
   ],
   "source": [
    "# Круговая диаграмма распределения количества значений атрибута work_type\n",
    "df['work_type'].value_counts().plot(kind='pie')"
   ]
  },
  {
   "cell_type": "markdown",
   "id": "3cdf1c5867742c99",
   "metadata": {
    "collapsed": false,
    "jupyter": {
     "outputs_hidden": false
    }
   },
   "source": [
    "## Анализирование атрибута Smoking status(статус курения)"
   ]
  },
  {
   "cell_type": "code",
   "execution_count": 16,
   "id": "439b08855703debc",
   "metadata": {
    "ExecuteTime": {
     "end_time": "2024-01-22T22:04:00.189979Z",
     "start_time": "2024-01-22T22:04:00.167426Z"
    },
    "collapsed": false,
    "jupyter": {
     "outputs_hidden": false
    }
   },
   "outputs": [
    {
     "data": {
      "text/plain": [
       "never smoked       1892\n",
       "Unknown            1544\n",
       "formerly smoked     885\n",
       "smokes              789\n",
       "Name: smoking_status, dtype: int64"
      ]
     },
     "execution_count": 16,
     "metadata": {},
     "output_type": "execute_result"
    }
   ],
   "source": [
    "# Подсчет количества значений в атрибуте smoking_status\n",
    "df['smoking_status'].value_counts()"
   ]
  },
  {
   "cell_type": "code",
   "execution_count": 17,
   "id": "95265783c8350cea",
   "metadata": {
    "ExecuteTime": {
     "end_time": "2024-01-22T22:04:00.230115Z",
     "start_time": "2024-01-22T22:04:00.193560Z"
    },
    "collapsed": false,
    "jupyter": {
     "outputs_hidden": false
    }
   },
   "outputs": [
    {
     "data": {
      "text/plain": [
       "<Axes: ylabel='smoking_status'>"
      ]
     },
     "execution_count": 17,
     "metadata": {},
     "output_type": "execute_result"
    },
    {
     "data": {
      "image/png": "[encoded data removed]",
      "text/plain": [
       "<Figure size 640x480 with 1 Axes>"
      ]
     },
     "metadata": {},
     "output_type": "display_data"
    }
   ],
   "source": [
    "# Круговая диаграмма распределения количества значений атрибута smoking_status\n",
    "df['smoking_status'].value_counts().plot(kind='pie')"
   ]
  },
  {
   "cell_type": "markdown",
   "id": "ebe25bd9b79afeb1",
   "metadata": {
    "collapsed": false,
    "jupyter": {
     "outputs_hidden": false
    }
   },
   "source": [
    "## Анализирование атрибута Residense type(вид проживания)"
   ]
  },
  {
   "cell_type": "code",
   "execution_count": 18,
   "id": "5d7d9e2c69cb7593",
   "metadata": {
    "ExecuteTime": {
     "end_time": "2024-01-22T22:04:00.255283Z",
     "start_time": "2024-01-22T22:04:00.221802Z"
    },
    "collapsed": false,
    "jupyter": {
     "outputs_hidden": false
    }
   },
   "outputs": [
    {
     "data": {
      "text/plain": [
       "Urban    2596\n",
       "Rural    2514\n",
       "Name: Residence_type, dtype: int64"
      ]
     },
     "execution_count": 18,
     "metadata": {},
     "output_type": "execute_result"
    }
   ],
   "source": [
    "# Подсчет количества значений в атрибуте Residence_type\n",
    "df['Residence_type'].value_counts()"
   ]
  },
  {
   "cell_type": "code",
   "execution_count": 19,
   "id": "5dfe106e98c8853d",
   "metadata": {
    "ExecuteTime": {
     "end_time": "2024-01-22T22:04:00.281890Z",
     "start_time": "2024-01-22T22:04:00.260221Z"
    },
    "collapsed": false,
    "jupyter": {
     "outputs_hidden": false
    }
   },
   "outputs": [
    {
     "data": {
      "text/plain": [
       "<Axes: ylabel='Residence_type'>"
      ]
     },
     "execution_count": 19,
     "metadata": {},
     "output_type": "execute_result"
    },
    {
     "data": {
      "image/png": "[encoded data removed]",
      "text/plain": [
       "<Figure size 640x480 with 1 Axes>"
      ]
     },
     "metadata": {},
     "output_type": "display_data"
    }
   ],
   "source": [
    "# Круговая диаграмма распределения количества значений атрибута Residence_type\n",
    "df['Residence_type'].value_counts().plot(kind='pie')"
   ]
  },
  {
   "cell_type": "markdown",
   "id": "84f2e63860669eab",
   "metadata": {
    "collapsed": false,
    "jupyter": {
     "outputs_hidden": false
    }
   },
   "source": [
    "- Мы имеем почти равный процент людей с городских и сельских районов "
   ]
  },
  {
   "cell_type": "markdown",
   "id": "4d7f2c97447903e6",
   "metadata": {
    "collapsed": false,
    "jupyter": {
     "outputs_hidden": false
    }
   },
   "source": [
    "## Анализирование атрибута bmi(индекс массы тела)"
   ]
  },
  {
   "cell_type": "code",
   "execution_count": 20,
   "id": "1284cd4914866538",
   "metadata": {
    "ExecuteTime": {
     "end_time": "2024-01-22T22:04:00.333828Z",
     "start_time": "2024-01-22T22:04:00.283042Z"
    },
    "collapsed": false,
    "jupyter": {
     "outputs_hidden": false
    }
   },
   "outputs": [
    {
     "data": {
      "text/plain": [
       "<Axes: xlabel='bmi', ylabel='Count'>"
      ]
     },
     "execution_count": 20,
     "metadata": {},
     "output_type": "execute_result"
    },
    {
     "data": {
      "image/png": "[encoded data removed]",
      "text/plain": [
       "<Figure size 640x480 with 1 Axes>"
      ]
     },
     "metadata": {},
     "output_type": "display_data"
    }
   ],
   "source": [
    "# Графическое представление атрибута bmi\n",
    "sns.histplot(data=df['bmi'])"
   ]
  },
  {
   "cell_type": "code",
   "execution_count": 21,
   "id": "c9567eb1d9c693d6",
   "metadata": {
    "ExecuteTime": {
     "end_time": "2024-01-22T22:04:00.806374Z",
     "start_time": "2024-01-22T22:04:00.312038Z"
    },
    "collapsed": false,
    "jupyter": {
     "outputs_hidden": false
    }
   },
   "outputs": [
    {
     "data": {
      "text/plain": [
       "<Axes: ylabel='bmi'>"
      ]
     },
     "execution_count": 21,
     "metadata": {},
     "output_type": "execute_result"
    },
    {
     "data": {
      "image/png": "[encoded data removed]",
      "text/plain": [
       "<Figure size 640x480 with 1 Axes>"
      ]
     },
     "metadata": {},
     "output_type": "display_data"
    }
   ],
   "source": [
    "# Коробчатая диаграмма для атрибута bmi\n",
    "sns.boxplot(data=df['bmi'])"
   ]
  },
  {
   "cell_type": "markdown",
   "id": "d4d8fc0c0234002c",
   "metadata": {
    "collapsed": false,
    "jupyter": {
     "outputs_hidden": false
    }
   },
   "source": [
    "- Основываясь на гистограмме и коробчатой диаграмме видно большое количество выбросов"
   ]
  },
  {
   "cell_type": "code",
   "execution_count": 22,
   "id": "ad934d4225022e36",
   "metadata": {
    "ExecuteTime": {
     "end_time": "2024-01-22T22:04:00.807569Z",
     "start_time": "2024-01-22T22:04:00.799345Z"
    },
    "collapsed": false,
    "jupyter": {
     "outputs_hidden": false
    }
   },
   "outputs": [],
   "source": [
    "# Нахождение количества выбросов основываясь на межквартильном размахе(IQR) и их нормирование\n",
    "Q1 = df['bmi'].quantile(0.05)\n",
    "Q3 = df['bmi'].quantile(0.95)\n",
    "IQR = Q3 - Q1\n",
    "df['bmi'] = np.where(\n",
    "    (df['bmi'] < (Q1 - 1.5 * IQR)) | (df['bmi'] > (Q3 + 1.5 * IQR)),\n",
    "    (Q1 - 1.5 * IQR) + np.random.uniform(0, 1) * (Q3 + 1.5 * IQR - (Q1 - 1.5 * IQR)),\n",
    "    df['bmi']\n",
    ")\n",
    "\n",
    "scaler = MinMaxScaler()\n",
    "df['bmi'] = scaler.fit_transform(df[['bmi']])\n",
    "\n",
    "with open('min_max_scaler_bmi.pkl', 'wb') as f:\n",
    "    pickle.dump(scaler, f)"
   ]
  },
  {
   "cell_type": "code",
   "execution_count": 23,
   "id": "d6024aa3b0ec0d98",
   "metadata": {
    "ExecuteTime": {
     "end_time": "2024-01-22T22:04:00.818823Z",
     "start_time": "2024-01-22T22:04:00.807358Z"
    },
    "collapsed": false,
    "jupyter": {
     "outputs_hidden": false
    }
   },
   "outputs": [
    {
     "data": {
      "text/plain": [
       "3.9334637964774952"
      ]
     },
     "execution_count": 23,
     "metadata": {},
     "output_type": "execute_result"
    }
   ],
   "source": [
    "# Процентное соотношение нулевых значений в bmi\n",
    "df['bmi'].isna().sum() / len(df['bmi']) * 100"
   ]
  },
  {
   "cell_type": "markdown",
   "id": "27c4be75f2d93110",
   "metadata": {
    "collapsed": false,
    "jupyter": {
     "outputs_hidden": false
    }
   },
   "source": [
    "- В датафрейме содержится 3.93 % нулевых значений"
   ]
  },
  {
   "cell_type": "code",
   "execution_count": 24,
   "id": "92d27b015418c3ab",
   "metadata": {
    "ExecuteTime": {
     "end_time": "2024-01-22T22:04:00.820252Z",
     "start_time": "2024-01-22T22:04:00.811705Z"
    },
    "collapsed": false,
    "jupyter": {
     "outputs_hidden": false
    }
   },
   "outputs": [
    {
     "name": "stdout",
     "output_type": "stream",
     "text": [
      "40\n",
      "249\n",
      "16.06425702811245\n"
     ]
    }
   ],
   "source": [
    "df_na = df.loc[df['bmi'].isnull()]\n",
    "n = df_na['stroke'].sum()\n",
    "g = df['stroke'].sum()\n",
    "print(n)\n",
    "print(g)\n",
    "print(n / g * 100)\n"
   ]
  },
  {
   "cell_type": "markdown",
   "id": "e0130e2a39b9be7e",
   "metadata": {
    "collapsed": false,
    "jupyter": {
     "outputs_hidden": false
    }
   },
   "source": [
    "- Люди у которых случился инсульт и их bmi равен 0: 40\n",
    "- Люди у которых случился инсульт и их bmi не равен 0: 249\n",
    "- Процент людей с инсультом и значениями 0 в отношении ко всему датасету: 16.06425702811245 "
   ]
  },
  {
   "cell_type": "code",
   "execution_count": 25,
   "id": "2acf4a52fae52324",
   "metadata": {
    "ExecuteTime": {
     "end_time": "2024-01-22T22:04:00.821268Z",
     "start_time": "2024-01-22T22:04:00.815454Z"
    },
    "collapsed": false,
    "jupyter": {
     "outputs_hidden": false
    }
   },
   "outputs": [
    {
     "data": {
      "text/plain": [
       "4.87279843444227"
      ]
     },
     "execution_count": 25,
     "metadata": {},
     "output_type": "execute_result"
    }
   ],
   "source": [
    "# Процент пациентов, которые получили инсульт\n",
    "df['stroke'].sum() / len(df) * 100"
   ]
  },
  {
   "cell_type": "markdown",
   "id": "d72faa0a47c0d0fa",
   "metadata": {
    "collapsed": false,
    "jupyter": {
     "outputs_hidden": false
    }
   },
   "source": [
    "- Наш целевой атрибут это stroke и пациентов, которые получили инсульт в меньшинстве - 249. Что является лишь 4.9 процентами из всех пациентов."
   ]
  },
  {
   "cell_type": "code",
   "execution_count": 26,
   "id": "9bdde110b25d174f",
   "metadata": {
    "ExecuteTime": {
     "end_time": "2024-01-22T22:04:00.840574Z",
     "start_time": "2024-01-22T22:04:00.817690Z"
    },
    "collapsed": false,
    "jupyter": {
     "outputs_hidden": false
    }
   },
   "outputs": [
    {
     "name": "stdout",
     "output_type": "stream",
     "text": [
      "40\n",
      "249\n"
     ]
    }
   ],
   "source": [
    "# Анализ того, стоит ли выбрасывать нулевые значения со столбца bmi\n",
    "df_na = df.loc[df['bmi'].isnull()]\n",
    "print(df_na['stroke'].sum())\n",
    "print(df['stroke'].sum())"
   ]
  },
  {
   "cell_type": "markdown",
   "id": "fb6be068eaf9ef77",
   "metadata": {
    "collapsed": false,
    "jupyter": {
     "outputs_hidden": false
    }
   },
   "source": [
    "- Среди пациентов с нулевыми значениями bmi, 40 из них получили инсульт из всех 249. Поэтому выбросить нулевые значения не можем."
   ]
  },
  {
   "cell_type": "code",
   "execution_count": 27,
   "id": "8c8d30719e7d59c9",
   "metadata": {
    "ExecuteTime": {
     "end_time": "2024-01-22T22:04:01.026782Z",
     "start_time": "2024-01-22T22:04:00.821226Z"
    },
    "collapsed": false,
    "jupyter": {
     "outputs_hidden": false
    }
   },
   "outputs": [],
   "source": [
    "# Замена нулевых значений, вычисляя медиану к столбцу bmi\n",
    "df['bmi'] = df['bmi'].fillna(df['bmi'].median())"
   ]
  },
  {
   "cell_type": "markdown",
   "id": "aa842991cf2356b5",
   "metadata": {
    "collapsed": false,
    "jupyter": {
     "outputs_hidden": false
    }
   },
   "source": [
    "## Анализирование атрибута age(возраст)"
   ]
  },
  {
   "cell_type": "code",
   "execution_count": 28,
   "id": "836f680d1998a6d1",
   "metadata": {
    "ExecuteTime": {
     "end_time": "2024-01-22T22:04:01.054389Z",
     "start_time": "2024-01-22T22:04:00.826627Z"
    },
    "collapsed": false,
    "jupyter": {
     "outputs_hidden": false
    }
   },
   "outputs": [
    {
     "data": {
      "text/plain": [
       "<Axes: xlabel='age', ylabel='Count'>"
      ]
     },
     "execution_count": 28,
     "metadata": {},
     "output_type": "execute_result"
    },
    {
     "data": {
      "image/png": "[encoded data removed]",
      "text/plain": [
       "<Figure size 640x480 with 1 Axes>"
      ]
     },
     "metadata": {},
     "output_type": "display_data"
    }
   ],
   "source": [
    "# Графическое представление данных атрибута age\n",
    "sns.histplot(data=df['age'])"
   ]
  },
  {
   "cell_type": "code",
   "execution_count": 29,
   "id": "865e1e1c0947f4d6",
   "metadata": {
    "ExecuteTime": {
     "end_time": "2024-01-22T22:04:01.152865Z",
     "start_time": "2024-01-22T22:04:00.884143Z"
    },
    "collapsed": false,
    "jupyter": {
     "outputs_hidden": false
    }
   },
   "outputs": [
    {
     "data": {
      "text/plain": [
       "<Axes: ylabel='age'>"
      ]
     },
     "execution_count": 29,
     "metadata": {},
     "output_type": "execute_result"
    },
    {
     "data": {
      "image/png": "[encoded data removed]",
      "text/plain": [
       "<Figure size 640x480 with 1 Axes>"
      ]
     },
     "metadata": {},
     "output_type": "display_data"
    }
   ],
   "source": [
    "# Коробчатая диаграмма для атрибута age\n",
    "sns.boxplot(data=df['age'])"
   ]
  },
  {
   "cell_type": "markdown",
   "id": "e3ed3b3103c8d8d8",
   "metadata": {
    "collapsed": false,
    "jupyter": {
     "outputs_hidden": false
    }
   },
   "source": [
    "- Атрибут age не имеет выбросов и имеет нормальное распределение"
   ]
  },
  {
   "cell_type": "markdown",
   "id": "a273d3592562e704",
   "metadata": {
    "collapsed": false,
    "jupyter": {
     "outputs_hidden": false
    }
   },
   "source": [
    "## Анализирование атрибута Average glucose level(средний уровень глюкозы)"
   ]
  },
  {
   "cell_type": "code",
   "execution_count": 30,
   "id": "ddade56bafec74ab",
   "metadata": {
    "ExecuteTime": {
     "end_time": "2024-01-22T22:04:01.246938Z",
     "start_time": "2024-01-22T22:04:01.162545Z"
    },
    "collapsed": false,
    "jupyter": {
     "outputs_hidden": false
    }
   },
   "outputs": [
    {
     "data": {
      "text/plain": [
       "<Axes: xlabel='avg_glucose_level', ylabel='Count'>"
      ]
     },
     "execution_count": 30,
     "metadata": {},
     "output_type": "execute_result"
    },
    {
     "data": {
      "image/png": "[encoded data removed]",
      "text/plain": [
       "<Figure size 640x480 with 1 Axes>"
      ]
     },
     "metadata": {},
     "output_type": "display_data"
    }
   ],
   "source": [
    "# Графическое представление данных атрибута avg_glucose_level\n",
    "sns.histplot(data=df['avg_glucose_level'])"
   ]
  },
  {
   "cell_type": "code",
   "execution_count": 31,
   "id": "2bef5918491cbfc",
   "metadata": {
    "ExecuteTime": {
     "end_time": "2024-01-22T22:04:01.249380Z",
     "start_time": "2024-01-22T22:04:01.223352Z"
    },
    "collapsed": false,
    "jupyter": {
     "outputs_hidden": false
    }
   },
   "outputs": [
    {
     "data": {
      "text/plain": [
       "<Axes: ylabel='avg_glucose_level'>"
      ]
     },
     "execution_count": 31,
     "metadata": {},
     "output_type": "execute_result"
    },
    {
     "data": {
      "image/png": "[encoded data removed]",
      "text/plain": [
       "<Figure size 640x480 with 1 Axes>"
      ]
     },
     "metadata": {},
     "output_type": "display_data"
    }
   ],
   "source": [
    "# Коробчатая диаграмма для атрибута avg_glucose_level\n",
    "sns.boxplot(data=df['avg_glucose_level'])"
   ]
  },
  {
   "cell_type": "markdown",
   "id": "4e9aac855a325e09",
   "metadata": {
    "collapsed": false,
    "jupyter": {
     "outputs_hidden": false
    }
   },
   "source": [
    "- Присутствует большое количество выбросов как на гистограмме, так и на коробчатой диаграмме"
   ]
  },
  {
   "cell_type": "code",
   "execution_count": 32,
   "id": "9030660ae15d9f19",
   "metadata": {
    "ExecuteTime": {
     "end_time": "2024-01-22T22:04:01.287240Z",
     "start_time": "2024-01-22T22:04:01.242740Z"
    },
    "collapsed": false,
    "jupyter": {
     "outputs_hidden": false
    }
   },
   "outputs": [],
   "source": [
    "# Нахождение количества выбросов основываясь на межквартильном размахе(IQR) и их нормирование\n",
    "Q1 = df['avg_glucose_level'].quantile(0.05)\n",
    "Q3 = df['avg_glucose_level'].quantile(0.95)\n",
    "IQR = Q3 - Q1\n",
    "df['avg_glucose_level'] = np.where(\n",
    "    (df['avg_glucose_level'] < (Q1 - 1.5 * IQR)) | (df['avg_glucose_level'] > (Q3 + 1.5 * IQR)),\n",
    "    (Q1 - 1.5 * IQR) + np.random.uniform(0, 1) * (Q3 + 1.5 * IQR - (Q1 - 1.5 * IQR)),\n",
    "    df['avg_glucose_level']\n",
    ")\n",
    "\n",
    "scaler = MinMaxScaler()\n",
    "df['avg_glucose_level'] = scaler.fit_transform(df[['avg_glucose_level']])\n",
    "\n",
    "with open('min_max_scaler_avg_glucose_level.pkl', 'wb') as f:\n",
    "    pickle.dump(scaler, f)"
   ]
  },
  {
   "cell_type": "code",
   "execution_count": 33,
   "id": "5ae44fa32ad792fd",
   "metadata": {
    "ExecuteTime": {
     "end_time": "2024-01-22T22:04:01.334254Z",
     "start_time": "2024-01-22T22:04:01.250491Z"
    },
    "collapsed": false,
    "jupyter": {
     "outputs_hidden": false
    }
   },
   "outputs": [
    {
     "name": "stderr",
     "output_type": "stream",
     "text": [
      "/var/folders/np/7w4_pgnx3q99j4gqz4v_sxww0000gn/T/ipykernel_28170/912364489.py:2: FutureWarning: The default value of numeric_only in DataFrame.corr is deprecated. In a future version, it will default to False. Select only valid columns or specify the value of numeric_only to silence this warning.\n",
      "  corrmat = df.corr()\n"
     ]
    },
    {
     "data": {
      "text/plain": [
       "<Axes: >"
      ]
     },
     "execution_count": 33,
     "metadata": {},
     "output_type": "execute_result"
    },
    {
     "data": {
      "image/png": "[encoded data removed]",
      "text/plain": [
       "<Figure size 1000x1000 with 2 Axes>"
      ]
     },
     "metadata": {},
     "output_type": "display_data"
    }
   ],
   "source": [
    "# Построение корреляционной матрицы между атрибутами в датасете, чтобы узнать коррелляцию между ними\n",
    "corrmat = df.corr()\n",
    "f, ax = plt.subplots(figsize=(10,10))\n",
    "sns.heatmap(corrmat, ax=ax, cmap=\"Blues\", linewidths=0.8, annot=True)"
   ]
  },
  {
   "cell_type": "markdown",
   "id": "a22163d9220abb31",
   "metadata": {
    "collapsed": false,
    "jupyter": {
     "outputs_hidden": false
    }
   },
   "source": [
    "- Мы имеем слабую корреляцию между атрибутами, смотря на тепловую карту\n",
    "- Самую высокую корреляцию имеет age и bmi - 0.33\n",
    "- Остальные ниже этого показателя\n",
    "- Из полученной тепловой карты невозможно получить какую-либо дельную информацию"
   ]
  },
  {
   "cell_type": "markdown",
   "id": "16c750e413143d5e",
   "metadata": {
    "collapsed": false,
    "jupyter": {
     "outputs_hidden": false
    }
   },
   "source": [
    "## Анализирование атрибута Heart disease(сердечная болезнь)"
   ]
  },
  {
   "cell_type": "code",
   "execution_count": 34,
   "id": "88224ae05ed88419",
   "metadata": {
    "ExecuteTime": {
     "end_time": "2024-01-22T22:04:01.398090Z",
     "start_time": "2024-01-22T22:04:01.324205Z"
    },
    "collapsed": false,
    "jupyter": {
     "outputs_hidden": false
    }
   },
   "outputs": [
    {
     "data": {
      "text/plain": [
       "0    4834\n",
       "1     276\n",
       "Name: heart_disease, dtype: int64"
      ]
     },
     "execution_count": 34,
     "metadata": {},
     "output_type": "execute_result"
    }
   ],
   "source": [
    "# Подсчет количества значений атрибута heart_disease\n",
    "df['heart_disease'].value_counts()"
   ]
  },
  {
   "cell_type": "markdown",
   "id": "b94eb10bc0acfa08",
   "metadata": {
    "collapsed": false,
    "jupyter": {
     "outputs_hidden": false
    }
   },
   "source": [
    "- Порядка 6% людей имеют сердечные заболевания"
   ]
  },
  {
   "cell_type": "code",
   "execution_count": 35,
   "id": "d621bd6508dd17a6",
   "metadata": {
    "ExecuteTime": {
     "end_time": "2024-01-22T22:04:01.409852Z",
     "start_time": "2024-01-22T22:04:01.358694Z"
    },
    "collapsed": false,
    "jupyter": {
     "outputs_hidden": false
    }
   },
   "outputs": [
    {
     "data": {
      "text/plain": [
       "<Axes: ylabel='heart_disease'>"
      ]
     },
     "execution_count": 35,
     "metadata": {},
     "output_type": "execute_result"
    },
    {
     "data": {
      "image/png": "[encoded data removed]",
      "text/plain": [
       "<Figure size 640x480 with 1 Axes>"
      ]
     },
     "metadata": {},
     "output_type": "display_data"
    }
   ],
   "source": [
    "# Круговая диаграмма распределения количества значений атрибута heart_disease\n",
    "df['heart_disease'].value_counts().plot(kind='pie')"
   ]
  },
  {
   "cell_type": "markdown",
   "id": "5c5bd28716249318",
   "metadata": {
    "collapsed": false,
    "jupyter": {
     "outputs_hidden": false
    }
   },
   "source": [
    "## Анализирование атрибута Ever married(Когда-либо замужем/женат)"
   ]
  },
  {
   "cell_type": "code",
   "execution_count": 36,
   "id": "1686510135395d7c",
   "metadata": {
    "ExecuteTime": {
     "end_time": "2024-01-22T22:04:01.447353Z",
     "start_time": "2024-01-22T22:04:01.372535Z"
    },
    "collapsed": false,
    "jupyter": {
     "outputs_hidden": false
    }
   },
   "outputs": [
    {
     "data": {
      "text/plain": [
       "Yes    3353\n",
       "No     1757\n",
       "Name: ever_married, dtype: int64"
      ]
     },
     "execution_count": 36,
     "metadata": {},
     "output_type": "execute_result"
    }
   ],
   "source": [
    "# Подсчет количества значений атрибута ever_married\n",
    "df['ever_married'].value_counts()"
   ]
  },
  {
   "cell_type": "markdown",
   "id": "fb7ee72e97459acf",
   "metadata": {
    "collapsed": false,
    "jupyter": {
     "outputs_hidden": false
    }
   },
   "source": [
    "- Результат сообщает нам о том, что более 60% людей женаты, остальные нет"
   ]
  },
  {
   "cell_type": "code",
   "execution_count": 37,
   "id": "aa43c2dd8cf4dbe1",
   "metadata": {
    "ExecuteTime": {
     "end_time": "2024-01-22T22:04:01.450779Z",
     "start_time": "2024-01-22T22:04:01.389309Z"
    },
    "collapsed": false,
    "jupyter": {
     "outputs_hidden": false
    }
   },
   "outputs": [
    {
     "data": {
      "text/plain": [
       "<Axes: ylabel='ever_married'>"
      ]
     },
     "execution_count": 37,
     "metadata": {},
     "output_type": "execute_result"
    },
    {
     "data": {
      "image/png": "[encoded data removed]",
      "text/plain": [
       "<Figure size 640x480 with 1 Axes>"
      ]
     },
     "metadata": {},
     "output_type": "display_data"
    }
   ],
   "source": [
    "# Круговая диаграмма распределения количества значений атрибута ever_married\n",
    "df['ever_married'].value_counts().plot(kind='pie')"
   ]
  },
  {
   "cell_type": "markdown",
   "id": "78e3dc26e125dee7",
   "metadata": {
    "collapsed": false,
    "jupyter": {
     "outputs_hidden": false
    }
   },
   "source": [
    "# Перекрестный анализ всех атрибутов с целевым атрибутом"
   ]
  },
  {
   "cell_type": "code",
   "execution_count": 38,
   "id": "c8693828456ab4c6",
   "metadata": {
    "ExecuteTime": {
     "end_time": "2024-01-22T22:04:01.505137Z",
     "start_time": "2024-01-22T22:04:01.412438Z"
    },
    "collapsed": false,
    "jupyter": {
     "outputs_hidden": false
    }
   },
   "outputs": [
    {
     "data": {
      "text/plain": [
       "<Axes: xlabel='stroke', ylabel='count'>"
      ]
     },
     "execution_count": 38,
     "metadata": {},
     "output_type": "execute_result"
    },
    {
     "data": {
      "image/png": "[encoded data removed]",
      "text/plain": [
       "<Figure size 640x480 with 1 Axes>"
      ]
     },
     "metadata": {},
     "output_type": "display_data"
    }
   ],
   "source": [
    "# Сравнение stroke с gender\n",
    "sns.countplot(data=df, x='stroke', hue='gender', palette='husl')"
   ]
  },
  {
   "cell_type": "markdown",
   "id": "3560c9097dafa156",
   "metadata": {
    "collapsed": false,
    "jupyter": {
     "outputs_hidden": false
    }
   },
   "source": [
    "- Женщины больше подвержены инсульту, чем мужчины"
   ]
  },
  {
   "cell_type": "code",
   "execution_count": 39,
   "id": "5124d4b7e2ebe185",
   "metadata": {
    "ExecuteTime": {
     "end_time": "2024-01-22T22:04:01.543049Z",
     "start_time": "2024-01-22T22:04:01.452811Z"
    },
    "collapsed": false,
    "jupyter": {
     "outputs_hidden": false
    }
   },
   "outputs": [
    {
     "data": {
      "text/plain": [
       "<Axes: xlabel='stroke', ylabel='count'>"
      ]
     },
     "execution_count": 39,
     "metadata": {},
     "output_type": "execute_result"
    },
    {
     "data": {
      "image/png": "[encoded data removed]",
      "text/plain": [
       "<Figure size 640x480 with 1 Axes>"
      ]
     },
     "metadata": {},
     "output_type": "display_data"
    }
   ],
   "source": [
    "# Сравнение stroke с work_type\n",
    "sns.countplot(data=df, x='stroke', hue='work_type', palette='husl')"
   ]
  },
  {
   "cell_type": "markdown",
   "id": "e8700b3a647d989e",
   "metadata": {
    "collapsed": false,
    "jupyter": {
     "outputs_hidden": false
    }
   },
   "source": [
    "- На графике выше можно увидеть, что люди никогда неработавшие не получали инсульта, а чаще всего кто получал - люди с частным типом работы "
   ]
  },
  {
   "cell_type": "code",
   "execution_count": 40,
   "id": "e2d660cb502293f7",
   "metadata": {
    "ExecuteTime": {
     "end_time": "2024-01-22T22:04:01.586153Z",
     "start_time": "2024-01-22T22:04:01.498755Z"
    },
    "collapsed": false,
    "jupyter": {
     "outputs_hidden": false
    }
   },
   "outputs": [
    {
     "data": {
      "text/plain": [
       "<Axes: xlabel='stroke', ylabel='count'>"
      ]
     },
     "execution_count": 40,
     "metadata": {},
     "output_type": "execute_result"
    },
    {
     "data": {
      "image/png": "[encoded data removed]",
      "text/plain": [
       "<Figure size 640x480 with 1 Axes>"
      ]
     },
     "metadata": {},
     "output_type": "display_data"
    }
   ],
   "source": [
    "# Сравнение stroke с smoking_status\n",
    "sns.countplot(data=df, x='stroke', hue='smoking_status', palette='husl')"
   ]
  },
  {
   "cell_type": "markdown",
   "id": "4ed6e31ea01280ed",
   "metadata": {
    "collapsed": false,
    "jupyter": {
     "outputs_hidden": false
    }
   },
   "source": [
    "- Люди, которые никогда не курили получили инсульт больше, чем те, которые бросили курить или курят до сих пор"
   ]
  },
  {
   "cell_type": "code",
   "execution_count": 41,
   "id": "a0909499d45bebc1",
   "metadata": {
    "ExecuteTime": {
     "end_time": "2024-01-22T22:04:01.608170Z",
     "start_time": "2024-01-22T22:04:01.535671Z"
    },
    "collapsed": false,
    "jupyter": {
     "outputs_hidden": false
    }
   },
   "outputs": [
    {
     "data": {
      "text/plain": [
       "<Axes: xlabel='stroke', ylabel='count'>"
      ]
     },
     "execution_count": 41,
     "metadata": {},
     "output_type": "execute_result"
    },
    {
     "data": {
      "image/png": "[encoded data removed]",
      "text/plain": [
       "<Figure size 640x480 with 1 Axes>"
      ]
     },
     "metadata": {},
     "output_type": "display_data"
    }
   ],
   "source": [
    "# Сравнение stroke с Residence_type\n",
    "sns.countplot(data=df, x='stroke', hue='Residence_type', palette='husl')"
   ]
  },
  {
   "cell_type": "markdown",
   "id": "f7319e92de99270a",
   "metadata": {
    "collapsed": false,
    "jupyter": {
     "outputs_hidden": false
    }
   },
   "source": [
    "- Основываясь на анализе типа проживания, люди которые живут в городе чаще получали инсульт"
   ]
  },
  {
   "cell_type": "code",
   "execution_count": 42,
   "id": "89df10249d009aed",
   "metadata": {
    "ExecuteTime": {
     "end_time": "2024-01-22T22:04:01.654761Z",
     "start_time": "2024-01-22T22:04:01.560276Z"
    },
    "collapsed": false,
    "jupyter": {
     "outputs_hidden": false
    }
   },
   "outputs": [
    {
     "data": {
      "text/plain": [
       "<Axes: xlabel='stroke', ylabel='count'>"
      ]
     },
     "execution_count": 42,
     "metadata": {},
     "output_type": "execute_result"
    },
    {
     "data": {
      "image/png": "[encoded data removed]",
      "text/plain": [
       "<Figure size 640x480 with 1 Axes>"
      ]
     },
     "metadata": {},
     "output_type": "display_data"
    }
   ],
   "source": [
    "# Сравнение stroke с heart_disease\n",
    "sns.countplot(data=df, x='stroke', hue='heart_disease', palette='husl')"
   ]
  },
  {
   "cell_type": "markdown",
   "id": "eace4e390967d207",
   "metadata": {
    "collapsed": false,
    "jupyter": {
     "outputs_hidden": false
    }
   },
   "source": [
    "- Большинство людей без сердечных заболеваний чаще страдают от инсульта по сравнению с теми, у кого были сердечные заболевания"
   ]
  },
  {
   "cell_type": "code",
   "execution_count": 43,
   "id": "72a923585644425b",
   "metadata": {
    "ExecuteTime": {
     "end_time": "2024-01-22T22:04:01.672180Z",
     "start_time": "2024-01-22T22:04:01.587481Z"
    },
    "collapsed": false,
    "jupyter": {
     "outputs_hidden": false
    }
   },
   "outputs": [
    {
     "data": {
      "text/plain": [
       "<Axes: xlabel='stroke', ylabel='count'>"
      ]
     },
     "execution_count": 43,
     "metadata": {},
     "output_type": "execute_result"
    },
    {
     "data": {
      "image/png": "[encoded data removed]",
      "text/plain": [
       "<Figure size 640x480 with 1 Axes>"
      ]
     },
     "metadata": {},
     "output_type": "display_data"
    }
   ],
   "source": [
    "# Сравнение stroke с ever_married\n",
    "sns.countplot(data=df, x='stroke', hue='ever_married', palette='husl')"
   ]
  },
  {
   "cell_type": "markdown",
   "id": "26072511955a211a",
   "metadata": {
    "collapsed": false,
    "jupyter": {
     "outputs_hidden": false
    }
   },
   "source": [
    "- Большое количество людей в браке получают инсульт по сравнениюс теми, кто не в браке"
   ]
  },
  {
   "cell_type": "markdown",
   "id": "8e351cf8651159e2",
   "metadata": {
    "collapsed": false,
    "jupyter": {
     "outputs_hidden": false
    }
   },
   "source": [
    "## Замена атрибутов с типом данных object в category"
   ]
  },
  {
   "cell_type": "code",
   "execution_count": 44,
   "id": "22752e14bed03e13",
   "metadata": {
    "ExecuteTime": {
     "end_time": "2024-01-22T22:04:01.672822Z",
     "start_time": "2024-01-22T22:04:01.610081Z"
    },
    "collapsed": false,
    "jupyter": {
     "outputs_hidden": false
    }
   },
   "outputs": [
    {
     "name": "stdout",
     "output_type": "stream",
     "text": [
      "Label Encoder Transformation\n"
     ]
    },
    {
     "name": "stderr",
     "output_type": "stream",
     "text": [
      "100%|██████████| 5/5 [00:00<00:00, 757.59it/s]"
     ]
    },
    {
     "name": "stdout",
     "output_type": "stream",
     "text": [
      "gender  :  [1 0]  =  ['Male' 'Female']\n",
      "ever_married  :  [1 0]  =  ['Yes' 'No']\n",
      "work_type  :  [2 3 0 4 1]  =  ['Private' 'Self-employed' 'Govt_job' 'children' 'Never_worked']\n",
      "Residence_type  :  [1 0]  =  ['Urban' 'Rural']\n",
      "smoking_status  :  [1 2 3 0]  =  ['formerly smoked' 'never smoked' 'smokes' 'Unknown']\n"
     ]
    },
    {
     "name": "stderr",
     "output_type": "stream",
     "text": [
      "\n"
     ]
    }
   ],
   "source": [
    "le = LabelEncoder()\n",
    "text_data_features = ['gender', 'ever_married', 'work_type', 'Residence_type', 'smoking_status']\n",
    "l3 = []; l4 = []\n",
    "print('Label Encoder Transformation')\n",
    "for i in tqdm(text_data_features):\n",
    "    df[i] = le.fit_transform(df[i])\n",
    "    l3.append(list(df[i].unique())); l4.append(list(le.inverse_transform(df[i].unique())))\n",
    "    print(i,' : ',df[i].unique(),' = ',le.inverse_transform(df[i].unique()))\n",
    "with open('label_encoder.pkl', 'wb') as f:\n",
    "    pickle.dump(le, f)"
   ]
  },
  {
   "cell_type": "code",
   "execution_count": 45,
   "id": "565c79dbe84826a9",
   "metadata": {
    "ExecuteTime": {
     "end_time": "2024-01-22T22:04:01.673984Z",
     "start_time": "2024-01-22T22:04:01.625808Z"
    },
    "collapsed": false,
    "jupyter": {
     "outputs_hidden": false
    }
   },
   "outputs": [
    {
     "data": {
      "text/html": [
       "<div>\n",
       "<style scoped>\n",
       "    .dataframe tbody tr th:only-of-type {\n",
       "        vertical-align: middle;\n",
       "    }\n",
       "\n",
       "    .dataframe tbody tr th {\n",
       "        vertical-align: top;\n",
       "    }\n",
       "\n",
       "    .dataframe thead th {\n",
       "        text-align: right;\n",
       "    }\n",
       "</style>\n",
       "<table border=\"1\" class=\"dataframe\">\n",
       "  <thead>\n",
       "    <tr style=\"text-align: right;\">\n",
       "      <th></th>\n",
       "      <th>gender</th>\n",
       "      <th>age</th>\n",
       "      <th>hypertension</th>\n",
       "      <th>heart_disease</th>\n",
       "      <th>ever_married</th>\n",
       "      <th>work_type</th>\n",
       "      <th>Residence_type</th>\n",
       "      <th>avg_glucose_level</th>\n",
       "      <th>bmi</th>\n",
       "      <th>smoking_status</th>\n",
       "      <th>stroke</th>\n",
       "    </tr>\n",
       "    <tr>\n",
       "      <th>id</th>\n",
       "      <th></th>\n",
       "      <th></th>\n",
       "      <th></th>\n",
       "      <th></th>\n",
       "      <th></th>\n",
       "      <th></th>\n",
       "      <th></th>\n",
       "      <th></th>\n",
       "      <th></th>\n",
       "      <th></th>\n",
       "      <th></th>\n",
       "    </tr>\n",
       "  </thead>\n",
       "  <tbody>\n",
       "    <tr>\n",
       "      <th>9046</th>\n",
       "      <td>1</td>\n",
       "      <td>67.0</td>\n",
       "      <td>0</td>\n",
       "      <td>1</td>\n",
       "      <td>1</td>\n",
       "      <td>2</td>\n",
       "      <td>1</td>\n",
       "      <td>0.801265</td>\n",
       "      <td>0.423575</td>\n",
       "      <td>1</td>\n",
       "      <td>1</td>\n",
       "    </tr>\n",
       "    <tr>\n",
       "      <th>51676</th>\n",
       "      <td>0</td>\n",
       "      <td>61.0</td>\n",
       "      <td>0</td>\n",
       "      <td>0</td>\n",
       "      <td>1</td>\n",
       "      <td>3</td>\n",
       "      <td>0</td>\n",
       "      <td>0.679023</td>\n",
       "      <td>0.303834</td>\n",
       "      <td>2</td>\n",
       "      <td>1</td>\n",
       "    </tr>\n",
       "    <tr>\n",
       "      <th>31112</th>\n",
       "      <td>1</td>\n",
       "      <td>80.0</td>\n",
       "      <td>0</td>\n",
       "      <td>1</td>\n",
       "      <td>1</td>\n",
       "      <td>2</td>\n",
       "      <td>0</td>\n",
       "      <td>0.234512</td>\n",
       "      <td>0.366489</td>\n",
       "      <td>2</td>\n",
       "      <td>1</td>\n",
       "    </tr>\n",
       "    <tr>\n",
       "      <th>60182</th>\n",
       "      <td>0</td>\n",
       "      <td>49.0</td>\n",
       "      <td>0</td>\n",
       "      <td>0</td>\n",
       "      <td>1</td>\n",
       "      <td>2</td>\n",
       "      <td>1</td>\n",
       "      <td>0.536008</td>\n",
       "      <td>0.392943</td>\n",
       "      <td>3</td>\n",
       "      <td>1</td>\n",
       "    </tr>\n",
       "    <tr>\n",
       "      <th>1665</th>\n",
       "      <td>0</td>\n",
       "      <td>79.0</td>\n",
       "      <td>1</td>\n",
       "      <td>0</td>\n",
       "      <td>1</td>\n",
       "      <td>3</td>\n",
       "      <td>0</td>\n",
       "      <td>0.549349</td>\n",
       "      <td>0.248141</td>\n",
       "      <td>2</td>\n",
       "      <td>1</td>\n",
       "    </tr>\n",
       "  </tbody>\n",
       "</table>\n",
       "</div>"
      ],
      "text/plain": [
       "       gender   age  hypertension  heart_disease  ever_married  work_type  \\\n",
       "id                                                                          \n",
       "9046        1  67.0             0              1             1          2   \n",
       "51676       0  61.0             0              0             1          3   \n",
       "31112       1  80.0             0              1             1          2   \n",
       "60182       0  49.0             0              0             1          2   \n",
       "1665        0  79.0             1              0             1          3   \n",
       "\n",
       "       Residence_type  avg_glucose_level       bmi  smoking_status  stroke  \n",
       "id                                                                          \n",
       "9046                1           0.801265  0.423575               1       1  \n",
       "51676               0           0.679023  0.303834               2       1  \n",
       "31112               0           0.234512  0.366489               2       1  \n",
       "60182               1           0.536008  0.392943               3       1  \n",
       "1665                0           0.549349  0.248141               2       1  "
      ]
     },
     "execution_count": 45,
     "metadata": {},
     "output_type": "execute_result"
    }
   ],
   "source": [
    "# Датафрейм после смены типов данных\n",
    "df.head()"
   ]
  },
  {
   "cell_type": "code",
   "execution_count": 46,
   "id": "1ad010fc7222238c",
   "metadata": {
    "ExecuteTime": {
     "end_time": "2024-01-22T22:16:42.158681Z",
     "start_time": "2024-01-22T22:16:41.860736Z"
    },
    "collapsed": false,
    "jupyter": {
     "outputs_hidden": false
    }
   },
   "outputs": [],
   "source": [
    "# Сохранение датафрейма в датасет с названием - data/prepared_dataset.csv\n",
    "df.to_csv('data/prepared_dataset.csv')"
   ]
  }
 ],
 "metadata": {
  "kernelspec": {
   "display_name": "Python 3 (ipykernel)",
   "language": "python",
   "name": "python3"
  },
  "language_info": {
   "codemirror_mode": {
    "name": "ipython",
    "version": 3
   },
   "file_extension": ".py",
   "mimetype": "text/x-python",
   "name": "python",
   "nbconvert_exporter": "python",
   "pygments_lexer": "ipython3",
   "version": "3.10.11"
  }
 },
 "nbformat": 4,
 "nbformat_minor": 5
}
