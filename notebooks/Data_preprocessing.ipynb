{
 "cells": [
  {
   "cell_type": "code",
   "execution_count": 1,
   "id": "initial_id",
   "metadata": {
    "collapsed": true,
    "ExecuteTime": {
     "end_time": "2024-01-24T09:51:24.761184Z",
     "start_time": "2024-01-24T09:51:24.700253Z"
    }
   },
   "outputs": [],
   "source": [
    "# Библиотеки использованные для обработки данных\n",
    "import numpy as np\n",
    "import pandas as pd\n",
    "from tqdm import tqdm\n",
    "from sklearn.preprocessing import LabelEncoder, MinMaxScaler\n",
    "from sklearn.utils import resample\n",
    "import pickle"
   ]
  },
  {
   "cell_type": "code",
   "execution_count": 2,
   "outputs": [],
   "source": [
    "# Датафрейм читается из csv файла - stroke_data.csv - взятого с kaggle\n",
    "df = pd.read_csv('data/stroke_data.csv')"
   ],
   "metadata": {
    "collapsed": false,
    "ExecuteTime": {
     "end_time": "2024-01-24T09:51:24.772549Z",
     "start_time": "2024-01-24T09:51:24.762832Z"
    }
   },
   "id": "c74b89a1da3e7229"
  },
  {
   "cell_type": "code",
   "execution_count": 3,
   "outputs": [],
   "source": [
    "# Удаление столбца id, который тут не нужен\n",
    "df.drop('id', axis=1, inplace=True)"
   ],
   "metadata": {
    "collapsed": false,
    "ExecuteTime": {
     "end_time": "2024-01-24T09:51:24.781696Z",
     "start_time": "2024-01-24T09:51:24.777446Z"
    }
   },
   "id": "3857db9c74d6ef86"
  },
  {
   "cell_type": "code",
   "execution_count": 4,
   "outputs": [
    {
     "data": {
      "text/plain": "   gender   age  hypertension  heart_disease ever_married      work_type  \\\n0    Male  67.0             0              1          Yes        Private   \n1  Female  61.0             0              0          Yes  Self-employed   \n2    Male  80.0             0              1          Yes        Private   \n3  Female  49.0             0              0          Yes        Private   \n4  Female  79.0             1              0          Yes  Self-employed   \n\n  Residence_type  avg_glucose_level   bmi   smoking_status  stroke  \n0          Urban             228.69  36.6  formerly smoked       1  \n1          Rural             202.21   NaN     never smoked       1  \n2          Rural             105.92  32.5     never smoked       1  \n3          Urban             171.23  34.4           smokes       1  \n4          Rural             174.12  24.0     never smoked       1  ",
      "text/html": "<div>\n<style scoped>\n    .dataframe tbody tr th:only-of-type {\n        vertical-align: middle;\n    }\n\n    .dataframe tbody tr th {\n        vertical-align: top;\n    }\n\n    .dataframe thead th {\n        text-align: right;\n    }\n</style>\n<table border=\"1\" class=\"dataframe\">\n  <thead>\n    <tr style=\"text-align: right;\">\n      <th></th>\n      <th>gender</th>\n      <th>age</th>\n      <th>hypertension</th>\n      <th>heart_disease</th>\n      <th>ever_married</th>\n      <th>work_type</th>\n      <th>Residence_type</th>\n      <th>avg_glucose_level</th>\n      <th>bmi</th>\n      <th>smoking_status</th>\n      <th>stroke</th>\n    </tr>\n  </thead>\n  <tbody>\n    <tr>\n      <th>0</th>\n      <td>Male</td>\n      <td>67.0</td>\n      <td>0</td>\n      <td>1</td>\n      <td>Yes</td>\n      <td>Private</td>\n      <td>Urban</td>\n      <td>228.69</td>\n      <td>36.6</td>\n      <td>formerly smoked</td>\n      <td>1</td>\n    </tr>\n    <tr>\n      <th>1</th>\n      <td>Female</td>\n      <td>61.0</td>\n      <td>0</td>\n      <td>0</td>\n      <td>Yes</td>\n      <td>Self-employed</td>\n      <td>Rural</td>\n      <td>202.21</td>\n      <td>NaN</td>\n      <td>never smoked</td>\n      <td>1</td>\n    </tr>\n    <tr>\n      <th>2</th>\n      <td>Male</td>\n      <td>80.0</td>\n      <td>0</td>\n      <td>1</td>\n      <td>Yes</td>\n      <td>Private</td>\n      <td>Rural</td>\n      <td>105.92</td>\n      <td>32.5</td>\n      <td>never smoked</td>\n      <td>1</td>\n    </tr>\n    <tr>\n      <th>3</th>\n      <td>Female</td>\n      <td>49.0</td>\n      <td>0</td>\n      <td>0</td>\n      <td>Yes</td>\n      <td>Private</td>\n      <td>Urban</td>\n      <td>171.23</td>\n      <td>34.4</td>\n      <td>smokes</td>\n      <td>1</td>\n    </tr>\n    <tr>\n      <th>4</th>\n      <td>Female</td>\n      <td>79.0</td>\n      <td>1</td>\n      <td>0</td>\n      <td>Yes</td>\n      <td>Self-employed</td>\n      <td>Rural</td>\n      <td>174.12</td>\n      <td>24.0</td>\n      <td>never smoked</td>\n      <td>1</td>\n    </tr>\n  </tbody>\n</table>\n</div>"
     },
     "execution_count": 4,
     "metadata": {},
     "output_type": "execute_result"
    }
   ],
   "source": [
    "# Просмотр получившегося датафрейма \n",
    "df.head()"
   ],
   "metadata": {
    "collapsed": false,
    "ExecuteTime": {
     "end_time": "2024-01-24T09:51:24.790522Z",
     "start_time": "2024-01-24T09:51:24.781119Z"
    }
   },
   "id": "b2ef5069d27058a0"
  },
  {
   "cell_type": "markdown",
   "source": [
    "## Поиск NULL значений в каждом из столбцов"
   ],
   "metadata": {
    "collapsed": false
   },
   "id": "6ae95cef18a1b4d2"
  },
  {
   "cell_type": "code",
   "execution_count": 5,
   "outputs": [
    {
     "name": "stdout",
     "output_type": "stream",
     "text": [
      "gender                 0\n",
      "age                    0\n",
      "hypertension           0\n",
      "heart_disease          0\n",
      "ever_married           0\n",
      "work_type              0\n",
      "Residence_type         0\n",
      "avg_glucose_level      0\n",
      "bmi                  201\n",
      "smoking_status         0\n",
      "stroke                 0\n",
      "dtype: int64\n"
     ]
    }
   ],
   "source": [
    "# Вывод NULL значений в каждом из столбцов\n",
    "print(df.isna().sum())"
   ],
   "metadata": {
    "collapsed": false,
    "ExecuteTime": {
     "end_time": "2024-01-24T09:51:24.796010Z",
     "start_time": "2024-01-24T09:51:24.787784Z"
    }
   },
   "id": "72e3c3a92f9861e1"
  },
  {
   "cell_type": "markdown",
   "source": [
    "- Подсчет кол-ва NULL, вышло порядка 201 значения на весь датасет и все в столбце bmi."
   ],
   "metadata": {
    "collapsed": false
   },
   "id": "f3b62a91addb2d4a"
  },
  {
   "cell_type": "code",
   "execution_count": 6,
   "outputs": [
    {
     "data": {
      "text/plain": "               age  hypertension  heart_disease  avg_glucose_level  \\\ncount  5110.000000   5110.000000    5110.000000        5110.000000   \nmean     43.226614      0.097456       0.054012         106.147677   \nstd      22.612647      0.296607       0.226063          45.283560   \nmin       0.080000      0.000000       0.000000          55.120000   \n25%      25.000000      0.000000       0.000000          77.245000   \n50%      45.000000      0.000000       0.000000          91.885000   \n75%      61.000000      0.000000       0.000000         114.090000   \nmax      82.000000      1.000000       1.000000         271.740000   \n\n               bmi       stroke  \ncount  4909.000000  5110.000000  \nmean     28.893237     0.048728  \nstd       7.854067     0.215320  \nmin      10.300000     0.000000  \n25%      23.500000     0.000000  \n50%      28.100000     0.000000  \n75%      33.100000     0.000000  \nmax      97.600000     1.000000  ",
      "text/html": "<div>\n<style scoped>\n    .dataframe tbody tr th:only-of-type {\n        vertical-align: middle;\n    }\n\n    .dataframe tbody tr th {\n        vertical-align: top;\n    }\n\n    .dataframe thead th {\n        text-align: right;\n    }\n</style>\n<table border=\"1\" class=\"dataframe\">\n  <thead>\n    <tr style=\"text-align: right;\">\n      <th></th>\n      <th>age</th>\n      <th>hypertension</th>\n      <th>heart_disease</th>\n      <th>avg_glucose_level</th>\n      <th>bmi</th>\n      <th>stroke</th>\n    </tr>\n  </thead>\n  <tbody>\n    <tr>\n      <th>count</th>\n      <td>5110.000000</td>\n      <td>5110.000000</td>\n      <td>5110.000000</td>\n      <td>5110.000000</td>\n      <td>4909.000000</td>\n      <td>5110.000000</td>\n    </tr>\n    <tr>\n      <th>mean</th>\n      <td>43.226614</td>\n      <td>0.097456</td>\n      <td>0.054012</td>\n      <td>106.147677</td>\n      <td>28.893237</td>\n      <td>0.048728</td>\n    </tr>\n    <tr>\n      <th>std</th>\n      <td>22.612647</td>\n      <td>0.296607</td>\n      <td>0.226063</td>\n      <td>45.283560</td>\n      <td>7.854067</td>\n      <td>0.215320</td>\n    </tr>\n    <tr>\n      <th>min</th>\n      <td>0.080000</td>\n      <td>0.000000</td>\n      <td>0.000000</td>\n      <td>55.120000</td>\n      <td>10.300000</td>\n      <td>0.000000</td>\n    </tr>\n    <tr>\n      <th>25%</th>\n      <td>25.000000</td>\n      <td>0.000000</td>\n      <td>0.000000</td>\n      <td>77.245000</td>\n      <td>23.500000</td>\n      <td>0.000000</td>\n    </tr>\n    <tr>\n      <th>50%</th>\n      <td>45.000000</td>\n      <td>0.000000</td>\n      <td>0.000000</td>\n      <td>91.885000</td>\n      <td>28.100000</td>\n      <td>0.000000</td>\n    </tr>\n    <tr>\n      <th>75%</th>\n      <td>61.000000</td>\n      <td>0.000000</td>\n      <td>0.000000</td>\n      <td>114.090000</td>\n      <td>33.100000</td>\n      <td>0.000000</td>\n    </tr>\n    <tr>\n      <th>max</th>\n      <td>82.000000</td>\n      <td>1.000000</td>\n      <td>1.000000</td>\n      <td>271.740000</td>\n      <td>97.600000</td>\n      <td>1.000000</td>\n    </tr>\n  </tbody>\n</table>\n</div>"
     },
     "execution_count": 6,
     "metadata": {},
     "output_type": "execute_result"
    }
   ],
   "source": [
    "# Для проверки статистического анализа всех атрибутов числового типа(кол-во, среднее, стандартное отклоненние, минимальное значение, все квартили, максимальное значение)\n",
    "df.describe()"
   ],
   "metadata": {
    "collapsed": false,
    "ExecuteTime": {
     "end_time": "2024-01-24T09:51:24.807024Z",
     "start_time": "2024-01-24T09:51:24.794958Z"
    }
   },
   "id": "7f2d4184aa422fd2"
  },
  {
   "cell_type": "code",
   "execution_count": 7,
   "outputs": [
    {
     "name": "stdout",
     "output_type": "stream",
     "text": [
      "<class 'pandas.core.frame.DataFrame'>\n",
      "RangeIndex: 5110 entries, 0 to 5109\n",
      "Data columns (total 11 columns):\n",
      " #   Column             Non-Null Count  Dtype  \n",
      "---  ------             --------------  -----  \n",
      " 0   gender             5110 non-null   object \n",
      " 1   age                5110 non-null   float64\n",
      " 2   hypertension       5110 non-null   int64  \n",
      " 3   heart_disease      5110 non-null   int64  \n",
      " 4   ever_married       5110 non-null   object \n",
      " 5   work_type          5110 non-null   object \n",
      " 6   Residence_type     5110 non-null   object \n",
      " 7   avg_glucose_level  5110 non-null   float64\n",
      " 8   bmi                4909 non-null   float64\n",
      " 9   smoking_status     5110 non-null   object \n",
      " 10  stroke             5110 non-null   int64  \n",
      "dtypes: float64(3), int64(3), object(5)\n",
      "memory usage: 439.3+ KB\n"
     ]
    }
   ],
   "source": [
    "# Предоставление типов данных всех столбцов и количество значений NOT NULL\n",
    "df.info()"
   ],
   "metadata": {
    "collapsed": false,
    "ExecuteTime": {
     "end_time": "2024-01-24T09:51:24.842241Z",
     "start_time": "2024-01-24T09:51:24.814116Z"
    }
   },
   "id": "22d936792fea0fc2"
  },
  {
   "cell_type": "code",
   "execution_count": 8,
   "outputs": [
    {
     "data": {
      "text/plain": "0"
     },
     "execution_count": 8,
     "metadata": {},
     "output_type": "execute_result"
    }
   ],
   "source": [
    "# Дубликатов не было обнаружено\n",
    "df.duplicated().sum()"
   ],
   "metadata": {
    "collapsed": false,
    "ExecuteTime": {
     "end_time": "2024-01-24T09:51:24.842925Z",
     "start_time": "2024-01-24T09:51:24.817216Z"
    }
   },
   "id": "d1c6f13ceada0c86"
  },
  {
   "cell_type": "markdown",
   "source": [
    "## Нахождение выбросов, нормирование атрибута bmi и замена нулевых значений"
   ],
   "metadata": {
    "collapsed": false
   },
   "id": "a545c1e45b495f69"
  },
  {
   "cell_type": "code",
   "execution_count": 9,
   "outputs": [],
   "source": [
    "# Нахождение количества выбросов основываясь на межквартильном размахе(IQR) и их нормирование\n",
    "Q1 = df['bmi'].quantile(0.05)\n",
    "Q3 = df['bmi'].quantile(0.95)\n",
    "IQR = Q3 - Q1\n",
    "df['bmi'] = np.where(\n",
    "    (df['bmi'] < (Q1 - 1.5 * IQR)) | (df['bmi'] > (Q3 + 1.5 * IQR)),\n",
    "    (Q1 - 1.5 * IQR) + np.random.uniform(0, 1) * (Q3 + 1.5 * IQR - (Q1 - 1.5 * IQR)),\n",
    "    df['bmi']\n",
    ")\n",
    "\n",
    "scaler = MinMaxScaler()\n",
    "df['bmi'] = scaler.fit_transform(df[['bmi']])\n",
    "\n",
    "with open('models/min_max_scaler_bmi.pkl', 'wb') as f:\n",
    "    pickle.dump(scaler, f)"
   ],
   "metadata": {
    "collapsed": false,
    "ExecuteTime": {
     "end_time": "2024-01-24T09:51:24.862184Z",
     "start_time": "2024-01-24T09:51:24.824725Z"
    }
   },
   "id": "205cd4dfa6b9d11a"
  },
  {
   "cell_type": "code",
   "execution_count": 10,
   "outputs": [
    {
     "data": {
      "text/plain": "3.9334637964774952"
     },
     "execution_count": 10,
     "metadata": {},
     "output_type": "execute_result"
    }
   ],
   "source": [
    "# Процентное соотношение нулевых значений в bmi\n",
    "df['bmi'].isna().sum() / len(df['bmi']) * 100"
   ],
   "metadata": {
    "collapsed": false,
    "ExecuteTime": {
     "end_time": "2024-01-24T09:51:24.862827Z",
     "start_time": "2024-01-24T09:51:24.832516Z"
    }
   },
   "id": "f282b8bd625ad3e1"
  },
  {
   "cell_type": "markdown",
   "source": [
    "- В датафрейме содержится 3.93 % нулевых значений"
   ],
   "metadata": {
    "collapsed": false
   },
   "id": "7299a47e6f406a3f"
  },
  {
   "cell_type": "code",
   "execution_count": 11,
   "outputs": [
    {
     "name": "stdout",
     "output_type": "stream",
     "text": [
      "40\n",
      "249\n",
      "16.06425702811245\n"
     ]
    }
   ],
   "source": [
    "df_na = df.loc[df['bmi'].isnull()]\n",
    "n = df_na['stroke'].sum()\n",
    "g = df['stroke'].sum()\n",
    "print(n)\n",
    "print(g)\n",
    "print(n / g * 100)"
   ],
   "metadata": {
    "collapsed": false,
    "ExecuteTime": {
     "end_time": "2024-01-24T09:51:24.900357Z",
     "start_time": "2024-01-24T09:51:24.835182Z"
    }
   },
   "id": "912c90c6a769115b"
  },
  {
   "cell_type": "markdown",
   "source": [
    "- Люди у которых случился инсульт и их bmi равен 0: 40\n",
    "- Люди у которых случился инсульт и их bmi не равен 0: 249\n",
    "- Процент людей с инсультом и значениями 0 в отношении ко всему датасету: 16.06425702811245 "
   ],
   "metadata": {
    "collapsed": false
   },
   "id": "4c3b3b35fbc9325d"
  },
  {
   "cell_type": "code",
   "execution_count": 12,
   "outputs": [
    {
     "data": {
      "text/plain": "4.87279843444227"
     },
     "execution_count": 12,
     "metadata": {},
     "output_type": "execute_result"
    }
   ],
   "source": [
    "# Процент пациентов, которые получили инсульт\n",
    "df['stroke'].sum() / len(df) * 100"
   ],
   "metadata": {
    "collapsed": false,
    "ExecuteTime": {
     "end_time": "2024-01-24T09:51:24.912890Z",
     "start_time": "2024-01-24T09:51:24.841203Z"
    }
   },
   "id": "7f934cd3c6e266ad"
  },
  {
   "cell_type": "markdown",
   "source": [
    "- Наш целевой атрибут это stroke, и пациентов, которые получили инсульт в меньшинстве - 249. Что является лишь 4.9 процентами из всех пациентов."
   ],
   "metadata": {
    "collapsed": false
   },
   "id": "d739adf557a7f611"
  },
  {
   "cell_type": "code",
   "execution_count": 13,
   "outputs": [
    {
     "name": "stdout",
     "output_type": "stream",
     "text": [
      "40\n",
      "249\n"
     ]
    }
   ],
   "source": [
    "# Анализ того, стоит ли выбрасывать нулевые значения со столбца bmi\n",
    "df_na = df.loc[df['bmi'].isnull()]\n",
    "print(df_na['stroke'].sum())\n",
    "print(df['stroke'].sum())"
   ],
   "metadata": {
    "collapsed": false,
    "ExecuteTime": {
     "end_time": "2024-01-24T09:51:24.919075Z",
     "start_time": "2024-01-24T09:51:24.843985Z"
    }
   },
   "id": "7cf9a719f43384db"
  },
  {
   "cell_type": "markdown",
   "source": [
    "- Среди пациентов с нулевыми значениями bmi, 40 из них получили инсульт из всех 249. Поэтому выбросить нулевые значения не можем."
   ],
   "metadata": {
    "collapsed": false
   },
   "id": "bb07da8d345ff639"
  },
  {
   "cell_type": "code",
   "execution_count": 14,
   "outputs": [],
   "source": [
    "# Замена нулевых значений, вычисляя медиану к столбцу bmi\n",
    "df['bmi'] = df['bmi'].fillna(df['bmi'].median())"
   ],
   "metadata": {
    "collapsed": false,
    "ExecuteTime": {
     "end_time": "2024-01-24T09:51:24.919628Z",
     "start_time": "2024-01-24T09:51:24.847621Z"
    }
   },
   "id": "264417bbb4b21c87"
  },
  {
   "cell_type": "markdown",
   "source": [
    "## Нахождение выбросов, нормирование атрибута avg_glucose_level\n"
   ],
   "metadata": {
    "collapsed": false
   },
   "id": "624fb89b99ad3811"
  },
  {
   "cell_type": "code",
   "execution_count": 15,
   "outputs": [],
   "source": [
    "# Нахождение количества выбросов основываясь на межквартильном размахе(IQR) и их нормирование\n",
    "Q1 = df['avg_glucose_level'].quantile(0.05)\n",
    "Q3 = df['avg_glucose_level'].quantile(0.95)\n",
    "IQR = Q3 - Q1\n",
    "df['avg_glucose_level'] = np.where(\n",
    "    (df['avg_glucose_level'] < (Q1 - 1.5 * IQR)) | (df['avg_glucose_level'] > (Q3 + 1.5 * IQR)),\n",
    "    (Q1 - 1.5 * IQR) + np.random.uniform(0, 1) * (Q3 + 1.5 * IQR - (Q1 - 1.5 * IQR)),\n",
    "    df['avg_glucose_level']\n",
    ")\n",
    "\n",
    "scaler = MinMaxScaler()\n",
    "df['avg_glucose_level'] = scaler.fit_transform(df[['avg_glucose_level']])\n",
    "\n",
    "with open('models/min_max_scaler_avg_glucose_level.pkl', 'wb') as f:\n",
    "    pickle.dump(scaler, f)"
   ],
   "metadata": {
    "collapsed": false,
    "ExecuteTime": {
     "end_time": "2024-01-24T09:51:24.934212Z",
     "start_time": "2024-01-24T09:51:24.852236Z"
    }
   },
   "id": "2095d1378e149118"
  },
  {
   "cell_type": "markdown",
   "source": [
    "## Замена атрибутов с типом данных object в category"
   ],
   "metadata": {
    "collapsed": false
   },
   "id": "6cf4995d96637f52"
  },
  {
   "cell_type": "code",
   "execution_count": 16,
   "outputs": [
    {
     "name": "stdout",
     "output_type": "stream",
     "text": [
      "Label Encoder Transformation\n"
     ]
    },
    {
     "name": "stderr",
     "output_type": "stream",
     "text": [
      "100%|██████████| 5/5 [00:00<00:00, 782.87it/s]"
     ]
    },
    {
     "name": "stdout",
     "output_type": "stream",
     "text": [
      "gender  :  [1 0 2]  =  ['Male' 'Female' 'Other']\n",
      "ever_married  :  [1 0]  =  ['Yes' 'No']\n",
      "work_type  :  [2 3 0 4 1]  =  ['Private' 'Self-employed' 'Govt_job' 'children' 'Never_worked']\n",
      "Residence_type  :  [1 0]  =  ['Urban' 'Rural']\n",
      "smoking_status  :  [1 2 3 0]  =  ['formerly smoked' 'never smoked' 'smokes' 'Unknown']\n"
     ]
    },
    {
     "name": "stderr",
     "output_type": "stream",
     "text": [
      "\n"
     ]
    }
   ],
   "source": [
    "le = LabelEncoder()\n",
    "text_data_features = ['gender', 'ever_married', 'work_type', 'Residence_type', 'smoking_status']\n",
    "l3 = []; l4 = []\n",
    "print('Label Encoder Transformation')\n",
    "for i in tqdm(text_data_features):\n",
    "    df[i] = le.fit_transform(df[i])\n",
    "    l3.append(list(df[i].unique())); l4.append(list(le.inverse_transform(df[i].unique())))\n",
    "    print(i,' : ',df[i].unique(),' = ',le.inverse_transform(df[i].unique()))\n",
    "with open('models/label_encoder.pkl', 'wb') as f:\n",
    "    pickle.dump(le, f)"
   ],
   "metadata": {
    "collapsed": false,
    "ExecuteTime": {
     "end_time": "2024-01-24T09:51:24.936373Z",
     "start_time": "2024-01-24T09:51:24.858224Z"
    }
   },
   "id": "4065feb4f0b25a5b"
  },
  {
   "cell_type": "code",
   "execution_count": 17,
   "outputs": [
    {
     "data": {
      "text/plain": "   gender   age  hypertension  heart_disease  ever_married  work_type  \\\n0       1  67.0             0              1             1          2   \n1       0  61.0             0              0             1          3   \n2       1  80.0             0              1             1          2   \n3       0  49.0             0              0             1          2   \n4       0  79.0             1              0             1          3   \n\n   Residence_type  avg_glucose_level       bmi  smoking_status  stroke  \n0               1           0.801265  0.388479               1       1  \n1               0           0.679023  0.262925               2       1  \n2               0           0.234512  0.327917               2       1  \n3               1           0.536008  0.355982               3       1  \n4               0           0.549349  0.202363               2       1  ",
      "text/html": "<div>\n<style scoped>\n    .dataframe tbody tr th:only-of-type {\n        vertical-align: middle;\n    }\n\n    .dataframe tbody tr th {\n        vertical-align: top;\n    }\n\n    .dataframe thead th {\n        text-align: right;\n    }\n</style>\n<table border=\"1\" class=\"dataframe\">\n  <thead>\n    <tr style=\"text-align: right;\">\n      <th></th>\n      <th>gender</th>\n      <th>age</th>\n      <th>hypertension</th>\n      <th>heart_disease</th>\n      <th>ever_married</th>\n      <th>work_type</th>\n      <th>Residence_type</th>\n      <th>avg_glucose_level</th>\n      <th>bmi</th>\n      <th>smoking_status</th>\n      <th>stroke</th>\n    </tr>\n  </thead>\n  <tbody>\n    <tr>\n      <th>0</th>\n      <td>1</td>\n      <td>67.0</td>\n      <td>0</td>\n      <td>1</td>\n      <td>1</td>\n      <td>2</td>\n      <td>1</td>\n      <td>0.801265</td>\n      <td>0.388479</td>\n      <td>1</td>\n      <td>1</td>\n    </tr>\n    <tr>\n      <th>1</th>\n      <td>0</td>\n      <td>61.0</td>\n      <td>0</td>\n      <td>0</td>\n      <td>1</td>\n      <td>3</td>\n      <td>0</td>\n      <td>0.679023</td>\n      <td>0.262925</td>\n      <td>2</td>\n      <td>1</td>\n    </tr>\n    <tr>\n      <th>2</th>\n      <td>1</td>\n      <td>80.0</td>\n      <td>0</td>\n      <td>1</td>\n      <td>1</td>\n      <td>2</td>\n      <td>0</td>\n      <td>0.234512</td>\n      <td>0.327917</td>\n      <td>2</td>\n      <td>1</td>\n    </tr>\n    <tr>\n      <th>3</th>\n      <td>0</td>\n      <td>49.0</td>\n      <td>0</td>\n      <td>0</td>\n      <td>1</td>\n      <td>2</td>\n      <td>1</td>\n      <td>0.536008</td>\n      <td>0.355982</td>\n      <td>3</td>\n      <td>1</td>\n    </tr>\n    <tr>\n      <th>4</th>\n      <td>0</td>\n      <td>79.0</td>\n      <td>1</td>\n      <td>0</td>\n      <td>1</td>\n      <td>3</td>\n      <td>0</td>\n      <td>0.549349</td>\n      <td>0.202363</td>\n      <td>2</td>\n      <td>1</td>\n    </tr>\n  </tbody>\n</table>\n</div>"
     },
     "execution_count": 17,
     "metadata": {},
     "output_type": "execute_result"
    }
   ],
   "source": [
    "# Датафрейм после смены типов данных\n",
    "df.head()"
   ],
   "metadata": {
    "collapsed": false,
    "ExecuteTime": {
     "end_time": "2024-01-24T09:51:24.937104Z",
     "start_time": "2024-01-24T09:51:24.878258Z"
    }
   },
   "id": "60a405411b74f594"
  },
  {
   "cell_type": "code",
   "execution_count": 18,
   "outputs": [],
   "source": [
    "# Так как у нас сильный перевес людей без инсульта, решено создать подобные данные. Если этого не сделать, у модели будет перевес\n",
    "df_stroke_1 = df[df['stroke'] == 1]\n",
    "df_upsample = resample(df_stroke_1, replace=True, n_samples=5000, random_state=123)"
   ],
   "metadata": {
    "collapsed": false,
    "ExecuteTime": {
     "end_time": "2024-01-24T09:51:24.937361Z",
     "start_time": "2024-01-24T09:51:24.885381Z"
    }
   },
   "id": "b9a1ab1aa206498a"
  },
  {
   "cell_type": "code",
   "execution_count": 19,
   "outputs": [],
   "source": [
    "# Соединение изначального датафрейма и с только что созданными данными\n",
    "df = pd.concat([df, df_upsample])"
   ],
   "metadata": {
    "collapsed": false,
    "ExecuteTime": {
     "end_time": "2024-01-24T09:51:24.937608Z",
     "start_time": "2024-01-24T09:51:24.889597Z"
    }
   },
   "id": "25942ce36d9846c0"
  },
  {
   "cell_type": "code",
   "execution_count": 20,
   "outputs": [
    {
     "data": {
      "text/plain": "1    5249\n0    4861\nName: stroke, dtype: int64"
     },
     "execution_count": 20,
     "metadata": {},
     "output_type": "execute_result"
    }
   ],
   "source": [
    "# Представление значений атрибута stroke после создания и объединения подобных данных\n",
    "df['stroke'].value_counts()"
   ],
   "metadata": {
    "collapsed": false,
    "ExecuteTime": {
     "end_time": "2024-01-24T09:51:24.937895Z",
     "start_time": "2024-01-24T09:51:24.894440Z"
    }
   },
   "id": "5c294aa70384145f"
  },
  {
   "cell_type": "code",
   "execution_count": 21,
   "outputs": [],
   "source": [
    "# Сохранение датафрейма в датасет с названием - data/prepared_dataset.csv\n",
    "df.to_csv('data/prepared_dataset.csv')"
   ],
   "metadata": {
    "collapsed": false,
    "ExecuteTime": {
     "end_time": "2024-01-24T09:51:24.986512Z",
     "start_time": "2024-01-24T09:51:24.897003Z"
    }
   },
   "id": "f0edd3ddbb4579e1"
  }
 ],
 "metadata": {
  "kernelspec": {
   "display_name": "Python 3",
   "language": "python",
   "name": "python3"
  },
  "language_info": {
   "codemirror_mode": {
    "name": "ipython",
    "version": 2
   },
   "file_extension": ".py",
   "mimetype": "text/x-python",
   "name": "python",
   "nbconvert_exporter": "python",
   "pygments_lexer": "ipython2",
   "version": "2.7.6"
  }
 },
 "nbformat": 4,
 "nbformat_minor": 5
}
